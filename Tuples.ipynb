{
 "cells": [
  {
   "cell_type": "markdown",
   "metadata": {},
   "source": [
    "# Tuples"
   ]
  },
  {
   "cell_type": "code",
   "execution_count": 5,
   "metadata": {
    "collapsed": false
   },
   "outputs": [
    {
     "name": "stdout",
     "output_type": "stream",
     "text": [
      "Last element in myTuple is: 3 \n"
     ]
    }
   ],
   "source": [
    "#It looks like a list but it's immutable (can't be modified)\n",
    "myTuple = (1,'Hello',3,6)\n",
    "\n",
    "print 'Last element in myTuple is: {x} '.format(x = myTuple[-1])"
   ]
  },
  {
   "cell_type": "code",
   "execution_count": 8,
   "metadata": {
    "collapsed": false
   },
   "outputs": [
    {
     "name": "stdout",
     "output_type": "stream",
     "text": [
      "Index of 3 is: 2\n",
      "Number of repetation of 3 is: 2\n"
     ]
    }
   ],
   "source": [
    "myTuple = (1,'Hello',3,6,3)\n",
    "\n",
    "#find index of a certain value\n",
    "idx = myTuple.index(3)\n",
    "print 'Index of 3 is: {x}'.format(x = idx)\n",
    "\n",
    "#Count repetition of a value in tuple\n",
    "numRepeat = myTuple.count(3)\n",
    "print 'Number of repetation of 3 is: {x}'.format(x = numRepeat)"
   ]
  },
  {
   "cell_type": "code",
   "execution_count": null,
   "metadata": {
    "collapsed": false
   },
   "outputs": [],
   "source": [
    "# Tuple Immutability\n",
    "l = [1,2,3,5]\n",
    "t = (1,2,3,5)\n",
    "\n",
    "print 'list is: {x}'.format(x = l)\n",
    "l[0] = 'Hello'\n",
    "print 'list after modification is: {x}'.format(x = l)\n",
    "\n",
    "print 'tuple is: {x}'.format(x = t)\n",
    "t[0] = 'Hello' #will not work\n",
    "print 'tuple after modification is: {x}'.format(x = t)"
   ]
  }
 ],
 "metadata": {
  "kernelspec": {
   "display_name": "Python 2",
   "language": "python",
   "name": "python2"
  },
  "language_info": {
   "codemirror_mode": {
    "name": "ipython",
    "version": 2
   },
   "file_extension": ".py",
   "mimetype": "text/x-python",
   "name": "python",
   "nbconvert_exporter": "python",
   "pygments_lexer": "ipython2",
   "version": "2.7.11"
  }
 },
 "nbformat": 4,
 "nbformat_minor": 0
}
