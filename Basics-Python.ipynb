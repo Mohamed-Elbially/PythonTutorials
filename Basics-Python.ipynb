{
 "cells": [
  {
   "cell_type": "markdown",
   "metadata": {},
   "source": [
    "# Variables and Mathematical Operations"
   ]
  },
  {
   "cell_type": "code",
   "execution_count": 6,
   "metadata": {
    "collapsed": false
   },
   "outputs": [
    {
     "name": "stdout",
     "output_type": "stream",
     "text": [
      "sum =  11 , mul =  30 , div = 0.833333333333 and sub =  -1\n",
      "Mathematical Operations over x and y are sum = 11 , mul =  30 , div = 0.833333333333 and sub = -1\n",
      "sum = 11 , mul = 30 , div = 0.833333333333 and sub = -1\n",
      "sum is 11 where sum is 11 and sum is 11\n"
     ]
    }
   ],
   "source": [
    "x = 5\n",
    "y = 6\n",
    "_sum = x+y            # sum of 2 numbers \n",
    "_mul = x*y            # multiplication of 2 numbers \n",
    "_div = float(x)/y     # division of 2 numbers\n",
    "_sub = x-y            # subtraction of 2 numbers \n",
    "\n",
    "# print formating in python \n",
    "print 'sum =  %s , mul =  %s , div = %s and sub =  %s' %(_sum, _mul, _div, _sub) \n",
    "print 'Mathematical Operations over x and y are sum = {x} , mul =  {y} , div = {z} and sub = {f}'.format(x = _sum, y = _mul, z = _div, f = _sub)\n",
    "\n",
    "x +=5  # another way to do x = x+5\n",
    "print 'sum = {f} , mul = {g} , div = {d} and sub = {s}'.format(f = _sum,g = _mul, d = _div ,s = _sub)\n",
    "print 'sum is {s} where sum is {s} and sum is {s}'.format(s = _sum)"
   ]
  },
  {
   "cell_type": "markdown",
   "metadata": {},
   "source": [
    "# Strings "
   ]
  },
  {
   "cell_type": "code",
   "execution_count": 7,
   "metadata": {
    "collapsed": false,
    "scrolled": true
   },
   "outputs": [
    {
     "name": "stdout",
     "output_type": "stream",
     "text": [
      "text is Hello World\n",
      "length of string is: 11\n",
      "Upper case of text is: HELLO WORLD \n",
      "Lower case of text is: hello world \n",
      "First character of text is: H \n",
      "Sliced text is: ello W \n",
      "Replaced text is: Hfllo World \n"
     ]
    }
   ],
   "source": [
    "x = 'Hello '\n",
    "y = 'World'\n",
    "\n",
    "text = x+y           # Concatenate multiple strings \n",
    "print 'text is {x}'.format(x = text)\n",
    "print 'length of string is: {x}'.format(x = len(text))\n",
    "\n",
    "textUpper = text.upper()   # convert charachters to upper case\n",
    "textLower = text.lower()   # convert charachters to lower case\n",
    "print 'Upper case of text is: {x} '.format(x = textUpper)\n",
    "print 'Lower case of text is: {x} '.format(x = textLower)\n",
    "\n",
    "firstCharacter = text[0]     # index the first character in the string \n",
    "print 'First character of text is: {x} '.format(x = firstCharacter)\n",
    "\n",
    "slicedText = text[1:7]   # index a range of characters in a string \n",
    "print 'Sliced text is: {x} '.format(x = slicedText)\n",
    "\n",
    "replacedCharacter = text.replace(text[1],'f') # replace the second character with 'f'\n",
    "print 'Replaced text is: {x} '.format(x = replacedCharacter)"
   ]
  },
  {
   "cell_type": "markdown",
   "metadata": {},
   "source": [
    "# Lists"
   ]
  },
  {
   "cell_type": "code",
   "execution_count": 8,
   "metadata": {
    "collapsed": false
   },
   "outputs": [
    {
     "name": "stdout",
     "output_type": "stream",
     "text": [
      "my list is: [1, 2, 3, 4, 'Hello', 'C', 4.5]\n",
      "my list after removing last element is: [1, 2, 3, 4, 'Hello', 'C']\n",
      "my list after removing element at index 2 is: [1, 2, 4, 'Hello', 'C']\n",
      "my list after replacing element at index 0 is ['Hi', 2, 4, 'Hello', 'C']\n",
      "my list after appending elements [1,2,3] is ['Hi', 2, 4, 'Hello', 'C', 100]\n",
      "my sliced list is: [4, 'Hello', 'C', 100]\n",
      "My 2D matrix is: [[1, 2, 5, 9], [2, 5, 8, 10], [10, 7, 5, 11]] \n",
      "second row in matrix is: [2, 5, 8, 10] \n",
      "first column in matrix is: [1, 2, 10]\n",
      "Sliced matrix is: [[5, 8], [7, 5]]\n"
     ]
    }
   ],
   "source": [
    "mylist = [1,2,3,4,'Hello','C',4.5]  # initalize a list \n",
    "print 'my list is: {x}'.format(x = mylist)\n",
    "\n",
    "removeLastElement = mylist.pop() # retrieve the last element in the list and then delete it from list \n",
    "print 'my list after removing last element is: {x}'.format(x = mylist)\n",
    "\n",
    "removeSpecificElement = mylist.pop(2) # retrieve the third element in the list and then delete it from list \n",
    "print 'my list after removing element at index 2 is: {x}'.format(x = mylist)\n",
    "\n",
    "mylist[0] = 'Hi'    #replace element in a list\n",
    "print 'my list after replacing element at index 0 is {x}'.format(x = mylist)\n",
    "\n",
    "mylist.append(100)  #Add element to a list\n",
    "print 'my list after appending elements [1,2,3] is {x}'.format(x = mylist)\n",
    "\n",
    "#slicing 1D list\n",
    "slicedList = mylist[2:] # retrieve the charachters from the 3rd character to the end of the string\n",
    "print 'my sliced list is: {x}'.format(x = slicedList)\n",
    "\n",
    "#2D List\n",
    "l1 = [1,2,5,9]      # first row\n",
    "l2 = [2,5,8,10]     # second row\n",
    "l3 = [10, 7, 5,11]  # third row\n",
    "\n",
    "matrix = [l1,l2,l3]   # construct the 2D matrix\n",
    "print 'My 2D matrix is: {x} '.format(x = matrix)\n",
    "\n",
    "#Slicing 2D Matrix\n",
    "secondRow = matrix[1] # retrieve the 2nd row in the matrix \n",
    "print 'second row in matrix is: {x} '.format(x = secondRow)\n",
    "\n",
    "firstColumn = [matrix[0][0], matrix[1][0],matrix[2][0]] # retrieve 1st column in the matrix \n",
    "print 'first column in matrix is: {x}'.format(x = firstColumn)\n",
    "\n",
    "# retrieve a selected sub-matrix  out of the matrix\n",
    "slicedMatrix = [[matrix[1][1], matrix[1][2]],[matrix[2][1],matrix[2][2]]]\n",
    "print 'Sliced matrix is: {x}'.format(x = slicedMatrix)"
   ]
  }
 ],
 "metadata": {
  "kernelspec": {
   "display_name": "Python 2",
   "language": "python",
   "name": "python2"
  },
  "language_info": {
   "codemirror_mode": {
    "name": "ipython",
    "version": 2
   },
   "file_extension": ".py",
   "mimetype": "text/x-python",
   "name": "python",
   "nbconvert_exporter": "python",
   "pygments_lexer": "ipython2",
   "version": "2.7.11"
  }
 },
 "nbformat": 4,
 "nbformat_minor": 0
}
