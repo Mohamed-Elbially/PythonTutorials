{
 "cells": [
  {
   "cell_type": "markdown",
   "metadata": {},
   "source": [
    "# Dictionary"
   ]
  },
  {
   "cell_type": "code",
   "execution_count": 4,
   "metadata": {
    "collapsed": false
   },
   "outputs": [
    {
     "name": "stdout",
     "output_type": "stream",
     "text": [
      "Value at key1 is: val1\n"
     ]
    }
   ],
   "source": [
    "dictionary = {'key1':'val1' , 'key2':'val2' , 'key3':'val3'}\n",
    "print 'Value at key1 is: {x}'.format(x = dictionary['key1'])"
   ]
  },
  {
   "cell_type": "code",
   "execution_count": 17,
   "metadata": {
    "collapsed": false
   },
   "outputs": [
    {
     "name": "stdout",
     "output_type": "stream",
     "text": [
      "Value at k1 is: 10\n",
      "First character of value at key k3 is : H\n"
     ]
    }
   ],
   "source": [
    "myDictionary = {}\n",
    "myDictionary['k1'] = 10\n",
    "myDictionary['k2'] = 15.3\n",
    "myDictionary['k3'] = 'Hello'\n",
    "myDictionary['k4'] = [1,2,3]\n",
    "print 'Value at k1 is: {x}'.format(x = myDictionary['k1'])\n",
    "print 'First character of value at key k3 is : {x}'.format(x = myDictionary['k3'][0])"
   ]
  },
  {
   "cell_type": "code",
   "execution_count": 11,
   "metadata": {
    "collapsed": false
   },
   "outputs": [
    {
     "name": "stdout",
     "output_type": "stream",
     "text": [
      "content of My dictionary is: [('k3', 'Hello'), ('k2', 15.3), ('k1', 10), ('k4', [1, 2, 3])]\n"
     ]
    }
   ],
   "source": [
    "print 'content of My dictionary is: {x}'.format(x = myDictionary.items())"
   ]
  },
  {
   "cell_type": "code",
   "execution_count": 18,
   "metadata": {
    "collapsed": false
   },
   "outputs": [
    {
     "name": "stdout",
     "output_type": "stream",
     "text": [
      "Keys  of My disctioary is: ['k3', 'k2', 'k1', 'k4']\n",
      "Values  of My disctioary is: ['Hello', 15.3, 10, [1, 2, 3]]\n"
     ]
    }
   ],
   "source": [
    "print 'Keys  of My disctioary is: {x}'.format(x = myDictionary.keys())\n",
    "print 'Values  of My disctioary is: {x}'.format(x = myDictionary.values())\n"
   ]
  },
  {
   "cell_type": "code",
   "execution_count": 13,
   "metadata": {
    "collapsed": false
   },
   "outputs": [
    {
     "name": "stdout",
     "output_type": "stream",
     "text": [
      "my dictionary after removing element at key k1 is: {'k3': 'Hello', 'k2': 15.3, 'k4': [1, 2, 3]}\n"
     ]
    }
   ],
   "source": [
    "#remove element from disctionary\n",
    "myDictionary = {'k1':10, 'k2':15.3, 'k3':'Hello', 'k4': [1,2,3]}\n",
    "myDictionary.pop('k1')\n",
    "print 'my dictionary after removing element at key k1 is: {x}'.format(x = myDictionary)"
   ]
  },
  {
   "cell_type": "code",
   "execution_count": null,
   "metadata": {
    "collapsed": true
   },
   "outputs": [],
   "source": []
  }
 ],
 "metadata": {
  "kernelspec": {
   "display_name": "Python 2",
   "language": "python",
   "name": "python2"
  },
  "language_info": {
   "codemirror_mode": {
    "name": "ipython",
    "version": 2
   },
   "file_extension": ".py",
   "mimetype": "text/x-python",
   "name": "python",
   "nbconvert_exporter": "python",
   "pygments_lexer": "ipython2",
   "version": "2.7.11"
  }
 },
 "nbformat": 4,
 "nbformat_minor": 0
}
