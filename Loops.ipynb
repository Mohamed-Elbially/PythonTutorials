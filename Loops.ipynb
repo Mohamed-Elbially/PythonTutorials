{
 "cells": [
  {
   "cell_type": "markdown",
   "metadata": {},
   "source": [
    "# For Loop"
   ]
  },
  {
   "cell_type": "code",
   "execution_count": 2,
   "metadata": {
    "collapsed": false
   },
   "outputs": [],
   "source": [
    "l = [1,2,'Hi',20]  # initialize a list "
   ]
  },
  {
   "cell_type": "code",
   "execution_count": 3,
   "metadata": {
    "collapsed": false
   },
   "outputs": [
    {
     "name": "stdout",
     "output_type": "stream",
     "text": [
      "item is 1\n",
      "item is 2\n",
      "item is Hi\n",
      "item is 20\n"
     ]
    }
   ],
   "source": [
    "# loop on every element in the list \n",
    "for item in l:\n",
    "    print 'item is {x}'.format(x = item)"
   ]
  },
  {
   "cell_type": "code",
   "execution_count": 4,
   "metadata": {
    "collapsed": false
   },
   "outputs": [
    {
     "name": "stdout",
     "output_type": "stream",
     "text": [
      "Hello\n",
      "Hello\n",
      "Hello\n",
      "Hello\n"
     ]
    }
   ],
   "source": [
    "# loop over the length of the list\n",
    "for item in l:\n",
    "    print 'Hello'"
   ]
  },
  {
   "cell_type": "code",
   "execution_count": 5,
   "metadata": {
    "collapsed": false
   },
   "outputs": [
    {
     "name": "stdout",
     "output_type": "stream",
     "text": [
      "1 is odd\n",
      "2 is even\n",
      "3 is odd\n",
      "4 is even\n",
      "5 is odd\n",
      "6 is even\n",
      "7 is odd\n",
      "8 is even\n",
      "9 is odd\n"
     ]
    }
   ],
   "source": [
    "l = [1,2,3,4,5,6,7,8,9]\n",
    "for item in l:\n",
    "    if (item % 2) == 0:     # check if it's divisible by 2 or not\n",
    "        print '{x} is even'.format(x = item)\n",
    "    else:\n",
    "        print '{x} is odd'.format(x = item)"
   ]
  },
  {
   "cell_type": "code",
   "execution_count": 27,
   "metadata": {
    "collapsed": false
   },
   "outputs": [
    {
     "name": "stdout",
     "output_type": "stream",
     "text": [
      "H\n",
      "e\n",
      "l\n",
      "l\n",
      "o\n",
      " \n",
      "B\n",
      "i\n",
      "o\n",
      " \n",
      "2\n",
      "0\n",
      "1\n",
      "8\n"
     ]
    }
   ],
   "source": [
    "s = 'Hello Bio 2018' # initialize a string \n",
    "#loop over every charachter of the string \n",
    "for letter in s:\n",
    "    print letter"
   ]
  },
  {
   "cell_type": "code",
   "execution_count": 10,
   "metadata": {
    "collapsed": false
   },
   "outputs": [
    {
     "name": "stdout",
     "output_type": "stream",
     "text": [
      "1\n",
      "2\n",
      "3\n",
      "4\n"
     ]
    }
   ],
   "source": [
    "t = (1,2,3,4) #initialize a tuple \n",
    "# loop over elements of the tuples \n",
    "for item in t:\n",
    "    print item"
   ]
  },
  {
   "cell_type": "code",
   "execution_count": 6,
   "metadata": {
    "collapsed": false
   },
   "outputs": [
    {
     "name": "stdout",
     "output_type": "stream",
     "text": [
      "(1, 2)\n",
      "(3, 9)\n",
      "(5, 1)\n"
     ]
    }
   ],
   "source": [
    "# list of tuples \n",
    "l = [(1,2),(3,9),(5,1)]\n",
    "# loop over the list of tuples \n",
    "for t in l:\n",
    "    print t"
   ]
  },
  {
   "cell_type": "code",
   "execution_count": 14,
   "metadata": {
    "collapsed": false
   },
   "outputs": [
    {
     "name": "stdout",
     "output_type": "stream",
     "text": [
      "2\n",
      "9\n",
      "1\n"
     ]
    }
   ],
   "source": [
    "#tuple unpacking \n",
    "l = [(1,2),(3,9),(5,1)]\n",
    "for (t1,t2) in l:\n",
    "    print t2"
   ]
  },
  {
   "cell_type": "code",
   "execution_count": 7,
   "metadata": {
    "collapsed": false
   },
   "outputs": [
    {
     "name": "stdout",
     "output_type": "stream",
     "text": [
      "k3\n",
      "k2\n",
      "k1\n"
     ]
    }
   ],
   "source": [
    "# Dictionary looping \n",
    "d = {'k1':2,'k2':5,'k3':50}\n",
    "for item in d:\n",
    "    print item # looping over the dictionary, prints only the keys"
   ]
  },
  {
   "cell_type": "code",
   "execution_count": 17,
   "metadata": {
    "collapsed": false
   },
   "outputs": [
    {
     "name": "stdout",
     "output_type": "stream",
     "text": [
      "50\n",
      "5\n",
      "2\n"
     ]
    }
   ],
   "source": [
    "# Dictionary looping \n",
    "d = {'k1':2,'k2':5,'k3':50}\n",
    "#loop over the dictionary as key and value \n",
    "for k,v in d.iteritems():\n",
    "    print v"
   ]
  },
  {
   "cell_type": "markdown",
   "metadata": {},
   "source": [
    "# While Loop"
   ]
  },
  {
   "cell_type": "code",
   "execution_count": 29,
   "metadata": {
    "collapsed": false
   },
   "outputs": [
    {
     "name": "stdout",
     "output_type": "stream",
     "text": [
      "0.0\n",
      "1.0\n",
      "2.0\n",
      "3.0\n",
      "4.0\n",
      "5.0\n",
      "6.0\n",
      "7.0\n",
      "8.0\n",
      "9.0\n",
      "Done!!\n"
     ]
    }
   ],
   "source": [
    "x = 0.0\n",
    "while x<10.0:\n",
    "    print x\n",
    "    x+=1\n",
    "else:\n",
    "    print 'Done!!'"
   ]
  },
  {
   "cell_type": "markdown",
   "metadata": {
    "collapsed": true
   },
   "source": [
    "# Continue, Break "
   ]
  },
  {
   "cell_type": "code",
   "execution_count": 8,
   "metadata": {
    "collapsed": false
   },
   "outputs": [
    {
     "name": "stdout",
     "output_type": "stream",
     "text": [
      "1\n",
      "2\n",
      "3\n",
      "4\n",
      "5\n",
      "6\n",
      "7\n",
      "8\n",
      "9\n",
      "10\n",
      "11\n",
      "12\n",
      "13\n",
      "14\n",
      "15 is reached\n"
     ]
    }
   ],
   "source": [
    "x = 0\n",
    "y = 1\n",
    "while y<2:\n",
    "    \n",
    "    while x <20:\n",
    "        x += 1\n",
    "        if (x/3) == 5:\n",
    "            print '15 is reached'\n",
    "            break     # break , breaks from the closest loop \n",
    "        else: \n",
    "            print x\n",
    "            continue # continue, continues from the closest loop \n",
    "            \n",
    "    y+=1"
   ]
  }
 ],
 "metadata": {
  "kernelspec": {
   "display_name": "Python 2",
   "language": "python",
   "name": "python2"
  },
  "language_info": {
   "codemirror_mode": {
    "name": "ipython",
    "version": 2
   },
   "file_extension": ".py",
   "mimetype": "text/x-python",
   "name": "python",
   "nbconvert_exporter": "python",
   "pygments_lexer": "ipython2",
   "version": "2.7.11"
  }
 },
 "nbformat": 4,
 "nbformat_minor": 0
}
