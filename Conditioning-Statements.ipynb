{
 "cells": [
  {
   "cell_type": "markdown",
   "metadata": {},
   "source": [
    "# Conditioning Statements"
   ]
  },
  {
   "cell_type": "code",
   "execution_count": 28,
   "metadata": {
    "collapsed": false
   },
   "outputs": [
    {
     "name": "stdout",
     "output_type": "stream",
     "text": [
      "True\n"
     ]
    }
   ],
   "source": [
    "#If condition\n",
    "x = 10\n",
    "if (x<=10):\n",
    "    print 'True'"
   ]
  },
  {
   "cell_type": "code",
   "execution_count": 40,
   "metadata": {
    "collapsed": false
   },
   "outputs": [
    {
     "name": "stdout",
     "output_type": "stream",
     "text": [
      "True\n"
     ]
    }
   ],
   "source": [
    "# If-Else condition\n",
    "\n",
    "x = 5\n",
    "if x>4:\n",
    "    print'True'\n",
    "else:\n",
    "    print 'False'"
   ]
  },
  {
   "cell_type": "code",
   "execution_count": 5,
   "metadata": {
    "collapsed": false
   },
   "outputs": [
    {
     "name": "stdout",
     "output_type": "stream",
     "text": [
      "False\n"
     ]
    }
   ],
   "source": [
    "# If-elif\n",
    "x = False\n",
    "\n",
    "if x == True:\n",
    "    print'True'\n",
    "elif x==False:\n",
    "    print 'False'"
   ]
  },
  {
   "cell_type": "code",
   "execution_count": 42,
   "metadata": {
    "collapsed": false
   },
   "outputs": [
    {
     "name": "stdout",
     "output_type": "stream",
     "text": [
      "This application converts your from percentage to A, B,C,D\n",
      "Please enter your grades:  10\n",
      "F\n"
     ]
    }
   ],
   "source": [
    "#If-elif-else\n",
    "print 'This application converts your from percentage to A, B,C,D'\n",
    "grade = input('Please enter your grades:  ')\n",
    "\n",
    "if (grade >= 85):\n",
    "    print 'A'\n",
    "elif (75 <= grade < 85):\n",
    "    print 'B'\n",
    "elif (65 <= grade < 75):\n",
    "    print 'C'\n",
    "elif (50 <= grade < 65):\n",
    "    print 'D'\n",
    "else:\n",
    "    print 'F'\n"
   ]
  }
 ],
 "metadata": {
  "kernelspec": {
   "display_name": "Python 2",
   "language": "python",
   "name": "python2"
  },
  "language_info": {
   "codemirror_mode": {
    "name": "ipython",
    "version": 2
   },
   "file_extension": ".py",
   "mimetype": "text/x-python",
   "name": "python",
   "nbconvert_exporter": "python",
   "pygments_lexer": "ipython2",
   "version": "2.7.11"
  }
 },
 "nbformat": 4,
 "nbformat_minor": 0
}
