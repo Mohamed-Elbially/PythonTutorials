{
 "cells": [
  {
   "cell_type": "markdown",
   "metadata": {
    "collapsed": false
   },
   "source": [
    "# Numpy Tutorial\n"
   ]
  },
  {
   "cell_type": "code",
   "execution_count": 1,
   "metadata": {
    "collapsed": false
   },
   "outputs": [],
   "source": [
    "import numpy as np  # include numpy package and renaming it to be np instead of numpy"
   ]
  },
  {
   "cell_type": "markdown",
   "metadata": {},
   "source": [
    "# Different Initialization Methods"
   ]
  },
  {
   "cell_type": "code",
   "execution_count": 44,
   "metadata": {
    "collapsed": false
   },
   "outputs": [],
   "source": [
    "array1 = np.array([[2,3,5],[7,8,9]]) # hard coded initialization of size 2x3\n",
    "array2 = np.empty((2,3),dtype='float32') # empty array of size 2x3 , data is float32\n",
    "array3 = np.zeros((2,3)) # array of zeros of size 2x3\n",
    "array4 = np.ones((2,3)) # array of ones of size 2x3\n",
    "array5 = np.random.rand(2,3) # array of random numbers of size 2x3\n",
    "array6 = np.eye(3,3) #array of ones on diagonal and zer elsewhere \n",
    "array7 = np.identity(3) #square identity array of size 3x3 \n",
    "array8 = np.empty_like(array1)   # Create an empty matrix with the same shape as array1e\n",
    "array9 = np.copy(array1) # it'll genearate a copy of array1 with the same data \n",
    "array10 = np.zeros_like(array1) # It'll generate array of zeros with the same shape as array1\n",
    "array11 = np.ones_like(array1) # It'll generate array of ones with the same shape as array1\n",
    "array12 = np.full((2,3),3,dtype='float') # array of size 2x3 filled with value=3\n",
    "vectorOfNumbers = np.arange(1,10,1) # generate vector of numbers from 1 to 9 with step 1\n",
    "vectorOfLineSpacedPoints = np.linspace(1,10,5) #Return evenly spaced numbers over a specified interval\n",
    "vectorOfLogSpacedPoints = np.logspace(1,10,5) #Return log spaced numbers over a specified interval"
   ]
  },
  {
   "cell_type": "markdown",
   "metadata": {},
   "source": [
    "# Array Size and Shape"
   ]
  },
  {
   "cell_type": "code",
   "execution_count": 121,
   "metadata": {
    "collapsed": false
   },
   "outputs": [
    {
     "name": "stdout",
     "output_type": "stream",
     "text": [
      "[[2 3 5]\n",
      " [7 8 9]]\n",
      "Number of dimensions of the array is  2\n",
      "The shape of the 2D array is :  (2, 3)\n",
      "Number of elements inside the array are :  6\n",
      "Number of rows are:  2\n",
      "Number of columns are:  3\n",
      "Element at 2nd row and 3rd column is :  9\n"
     ]
    }
   ],
   "source": [
    "array2D  =np.array([[2,3,5],[7,8,9]]) #initialze 2D array of shape 2x3\n",
    "print array2D\n",
    "print \"Number of dimensions of the array is \", array2D.ndim #print the dimension of the array \n",
    "print \"The shape of the 2D array is : \",array2D.shape # print array shape\n",
    "print \"Number of elements inside the array are : \",array2D.size  # print array size\n",
    "print \"Number of rows are: \",array2D.shape[0]  # print array number of rows \n",
    "print \"Number of columns are: \",array2D.shape[1]  # print array number of columns \n",
    "print \"Element at 2nd row and 3rd column is : \",array2D[1,2] #print element at 2nd row and 3rd column"
   ]
  },
  {
   "cell_type": "markdown",
   "metadata": {},
   "source": [
    "# Array Slicing"
   ]
  },
  {
   "cell_type": "code",
   "execution_count": 98,
   "metadata": {
    "collapsed": false
   },
   "outputs": [
    {
     "name": "stdout",
     "output_type": "stream",
     "text": [
      "First column is:  [2 7]\n",
      "First row is:  [2 3 5]\n",
      "sub matrix is:  [[2 3]\n",
      " [7 8]]\n"
     ]
    }
   ],
   "source": [
    "firstCol = array2D[:,0]     #extract 1st column of array\n",
    "print \"First column is: \", firstCol             #print 1st column\n",
    "firstRow = array2D[0,:]     #extract 1st row of array\n",
    "print \"First row is: \", firstRow  #print 1st row\n",
    "subMatrix = array2D[0:2,0:2]\n",
    "print \"sub matrix is: \", subMatrix  #print first 2 rows and columns"
   ]
  },
  {
   "cell_type": "markdown",
   "metadata": {},
   "source": [
    "# Initialize Array Dynamically "
   ]
  },
  {
   "cell_type": "code",
   "execution_count": 100,
   "metadata": {
    "collapsed": false
   },
   "outputs": [],
   "source": [
    "numberOfRows = 100       #Number of rows\n",
    "numberOfColumns = 400    #Number of columns \n",
    "emptyMatrix = np.empty((numberOfRows,numberOfColumns)) #Initialize an empty array with very small random numbers \n",
    "\n",
    "# This section to fill the array dynamically through two for loops \n",
    "for row in xrange(emptyMatrix.shape[0]):   #first loop to loop over the number of rows\n",
    "    for col in xrange(emptyMatrix.shape[1]): #second loop to loop over the number of columns\n",
    "        emptyMatrix[row,col] = row+col # fill every element of the array with the sum of row number + column number"
   ]
  },
  {
   "cell_type": "markdown",
   "metadata": {},
   "source": [
    "# Element Wise Mathematical Operations"
   ]
  },
  {
   "cell_type": "code",
   "execution_count": 140,
   "metadata": {
    "collapsed": false
   },
   "outputs": [
    {
     "name": "stdout",
     "output_type": "stream",
     "text": [
      "Sum of 2 matrices:  [[ 2  4  6]\n",
      " [ 5  8 11]]\n",
      "Sum of 2 matrices:  [[ 2  4  6]\n",
      " [ 5  8 11]]\n",
      "Subtraction of 2 matrices:  [[0 0 0]\n",
      " [1 0 1]]\n",
      "Subtraction of 2 matrices:  [[0 0 0]\n",
      " [1 0 1]]\n",
      "Multiplication of 2 matrices (element wise) :  [[ 1  4  9]\n",
      " [ 6 16 30]]\n",
      "Multiplication of 2 matrices (element wise) :  [[ 1  4  9]\n",
      " [ 6 16 30]]\n",
      "Division of 2 matrices (element wise) :  [[ 1.   1.   1. ]\n",
      " [ 1.5  1.   1.2]]\n",
      "Division of 2 matrices (element wise) :  [[ 1.   1.   1. ]\n",
      " [ 1.5  1.   1.2]]\n"
     ]
    }
   ],
   "source": [
    "A = np.array([[1,2,3],[3,4,6]])\n",
    "B = np.array([[1,2,3],[2,4,5]])\n",
    " \n",
    "print \"Sum of 2 matrices: \", A + B        #Element wise sum\n",
    "print \"Sum of 2 matrices: \", np.add(A, B)        #Element wise sum using numpy function \n",
    "print \"Subtraction of 2 matrices: \", A - B #Element wise subtraction\n",
    "print \"Subtraction of 2 matrices: \", np.subtract(A, B) #Element wise subtraction\n",
    "print \"Multiplication of 2 matrices (element wise) : \", A*B  #element wise multiplication \n",
    "print \"Multiplication of 2 matrices (element wise) : \", np.multiply(A,B)#element wise multiplication using numpy functions\n",
    "print \"Division of 2 matrices (element wise) : \", A/ np.float32(B)#element wise division \n",
    "print \"Division of 2 matrices (element wise) : \", np.divide(A, np.float32(B))#element wise division using numpy functions"
   ]
  },
  {
   "cell_type": "markdown",
   "metadata": {},
   "source": [
    "# Matrix Matheatical Operations"
   ]
  },
  {
   "cell_type": "code",
   "execution_count": 102,
   "metadata": {
    "collapsed": false
   },
   "outputs": [
    {
     "name": "stdout",
     "output_type": "stream",
     "text": [
      "Multiplication of 2 matrices :  [[11 18 16]\n",
      " [23 38 35]]\n",
      "Division of 2 matrices :  [[  1.00000000e+00   0.00000000e+00  -5.55111512e-17]\n",
      " [  2.00000000e-01   1.00000000e+00   4.00000000e-01]]\n"
     ]
    }
   ],
   "source": [
    "A = np.array([[1,2,3],[3,4,6]])\n",
    "B = np.array([[1,2,3],[2,2,5],[2,4,1]])\n",
    "inverse_B = np.linalg.inv(B) #matrix inverese \n",
    "\n",
    "print \"Multiplication of 2 matrices : \", np.dot(A,B) #matrix dot multiplication\n",
    "print \"Division of 2 matrices : \", np.dot(A,inverse_B) #matrix division"
   ]
  },
  {
   "cell_type": "markdown",
   "metadata": {},
   "source": [
    "# Statistical Operators"
   ]
  },
  {
   "cell_type": "code",
   "execution_count": 174,
   "metadata": {
    "collapsed": false
   },
   "outputs": [
    {
     "name": "stdout",
     "output_type": "stream",
     "text": [
      "Maximum of rows =  [2 4 5]\n",
      "Maximum of columns =  [3 5 4]\n",
      "Maximum of the matrix =  5\n",
      "Index of Maximum of the matrix =  5\n",
      "Minimum of the matrix =  1\n",
      "Index of Minimum of the matrix =  0\n",
      "Mean of rows =  [ 1.66666667  2.66666667  3.        ]\n",
      "Mean of columns =  [ 2.          3.          2.33333333]\n",
      "Mean of the matrix =  2.44444444444\n",
      "Standard deviation of the matrix =  1.25707872211\n",
      "Median of the matrix =  2.0\n"
     ]
    }
   ],
   "source": [
    "A = np.array([[1,2,3],[2,2,5],[2,4,1]]) \n",
    "B = np.array([[1,2,3],[2,2,5]],dtype='float32')\n",
    "\n",
    "maximumOfRows = np.max(A,axis=0)   #matrix maximum through the columns\n",
    "print \"Maximum of rows = \", maximumOfRows\n",
    "\n",
    "maximumOfColumns = np.max(A,axis=1)  #matrix maximum through rows \n",
    "print \"Maximum of columns = \", maximumOfColumns\n",
    "\n",
    "maximum = np.max(A) #matrix maximm through the rows and columns \n",
    "print \"Maximum of the matrix = \", maximum\n",
    "\n",
    "indxOfMax = np.argmax(A)\n",
    "print \"Index of Maximum of the matrix = \", indxOfMax\n",
    "\n",
    "minimum = np.min(A) #matrix minimum through the rows and columns \n",
    "print \"Minimum of the matrix = \", minimum\n",
    "\n",
    "indxOfMin = np.argmin(A)\n",
    "print \"Index of Minimum of the matrix = \", indxOfMin\n",
    "\n",
    "meanOfRows = np.mean(A,axis=0)   #matrix mean through the columns\n",
    "print \"Mean of rows = \", meanOfRows\n",
    "\n",
    "meanOfColumns = np.mean(A,axis=1)  #matrix mean through rows \n",
    "print \"Mean of columns = \", meanOfColumns\n",
    "\n",
    "mean = np.mean(A) #matrix mean through the rows and columns \n",
    "print \"Mean of the matrix = \", mean\n",
    "\n",
    "std = np.std(A) #matrix mean through the rows and columns \n",
    "print \"Standard deviation of the matrix = \", std\n",
    "\n",
    "median = np.median(A)\n",
    "print \"Median of the matrix = \", median"
   ]
  },
  {
   "cell_type": "markdown",
   "metadata": {},
   "source": [
    "# Array Shape Manipulation"
   ]
  },
  {
   "cell_type": "code",
   "execution_count": 173,
   "metadata": {
    "collapsed": false
   },
   "outputs": [
    {
     "name": "stdout",
     "output_type": "stream",
     "text": [
      "Flattened Array =  [1 2 3 2 2 5 2 4 1]\n",
      "Resized array with the same size =  [[ 1.  2.]\n",
      " [ 3.  2.]\n",
      " [ 2.  5.]]\n",
      "Resized array with different size =  [[ 1.  2.  3.  2.]\n",
      " [ 2.  5.  1.  2.]\n",
      " [ 3.  2.  2.  5.]\n",
      " [ 1.  2.  3.  2.]]\n",
      "Resized array with bigger size padded with zeros [[ 1.  2.  3.]\n",
      " [ 2.  2.  5.]\n",
      " [ 0.  0.  0.]\n",
      " [ 0.  0.  0.]]\n",
      "Reshaped array with bigger size padded with zeros [[ 1.  2.  3.  2.  2.  5.]\n",
      " [ 0.  0.  0.  0.  0.  0.]]\n"
     ]
    }
   ],
   "source": [
    "A = np.array([[1,2,3],[2,2,5],[2,4,1]]) \n",
    "B = np.array([[1,2,3],[2,2,5]],dtype='float32')\n",
    "\n",
    "flattenedMatrix = np.ravel(A) #flattening array to be a vector (concatenating rows together)\n",
    "print \"Flattened Array = \",flattenedMatrix\n",
    "\n",
    "resizedArray = np.resize(B, (3,2)) #resize array to be in shape 3x2\n",
    "print \"Resized array with the same size = \",resizedArray\n",
    "\n",
    "resizedArray = np.resize(B, (4,4)) #resize array to be in shape 4x4 (padded with repeated version of B)\n",
    "print \"Resized array with different size = \",resizedArray\n",
    "\n",
    "B.resize((4,3))\n",
    "print \"Resized array with bigger size padded with zeros\", B\n",
    "\n",
    "#Array reshape can't change the array size unlike array resize\n",
    "reshapedArray = np.reshape(B,(2,6)) \n",
    "print \"Reshaped array with bigger size padded with zeros\", reshapedArray"
   ]
  },
  {
   "cell_type": "markdown",
   "metadata": {},
   "source": [
    "# Matrix Concatination "
   ]
  },
  {
   "cell_type": "code",
   "execution_count": 40,
   "metadata": {
    "collapsed": false
   },
   "outputs": [
    {
     "name": "stdout",
     "output_type": "stream",
     "text": [
      "concatinate A and B over the rows  [[1 2 3]\n",
      " [2 2 5]\n",
      " [2 4 1]\n",
      " [0 1 2]]\n",
      "concatinate A and B over the columns [[1 2 3 0]\n",
      " [2 2 5 1]\n",
      " [2 4 1 2]]\n",
      "concatinate A and B but as a flatten version of A and B [1 2 3 2 2 5 2 4 1 0 1 2]\n"
     ]
    }
   ],
   "source": [
    "A = np.array([[1,2,3],[2,2,5],[2,4,1]]) \n",
    "B = np.arange(0,3,1)\n",
    "B.shape = 1,3 # change the shape of vector B to be of shape 1x3\n",
    "\n",
    "concatMatrix1 = np.concatenate((A,B),axis=0) # concatinate A and B over the rows\n",
    "concatMatrix1 = np.vstack((A,B)) # same as previous\n",
    "print \"concatinate A and B over the rows \", concatMatrix1\n",
    "\n",
    "concatMatrix2 = np.concatenate((A,B.T),axis=1) # concatinate A and B over the columns\n",
    "concatMatrix2 = np.hstack((A,B.T)) # same as previous\n",
    "print \"concatinate A and B over the columns\", concatMatrix2\n",
    "\n",
    "concatMatrix3 = np.concatenate((A,B),axis=None) # concatinate A and B but as a flatten version of A and B\n",
    "print \"concatinate A and B but as a flatten version of A and B\",concatMatrix3"
   ]
  },
  {
   "cell_type": "markdown",
   "metadata": {
    "collapsed": true
   },
   "source": [
    "# Different Useful Opertors"
   ]
  },
  {
   "cell_type": "code",
   "execution_count": 18,
   "metadata": {
    "collapsed": false
   },
   "outputs": [
    {
     "name": "stdout",
     "output_type": "stream",
     "text": [
      "Determinant =  10.0\n",
      "Inverse =  [[-1.8  1.   0.4]\n",
      " [ 0.8 -0.5  0.1]\n",
      " [ 0.4  0.  -0.2]]\n",
      "Pseudo Inverse =  [[-0.42857143  0.33333331]\n",
      " [ 1.14285719 -0.66666663]\n",
      " [-0.28571427  0.33333331]]\n",
      "Matrix Norm =  8.24621125124\n",
      "Matrix Eigne Values =  [ 7.50745042 -0.43329271 -3.07415771]\n",
      "Matrix Eigne Vectors =  [[-0.46868451 -0.90438061 -0.23085249]\n",
      " [-0.68100346  0.39069608 -0.63524161]\n",
      " [-0.56264476  0.17161666  0.73700422]]\n",
      "Matrix Rank =  3\n",
      "Number Ceil =  11.0\n",
      "Number Floor =  10.0\n",
      "shape of transposed array is (3, 2)\n",
      "Matrix diagonal is  [1 2 1]\n"
     ]
    }
   ],
   "source": [
    "A = np.array([[1,2,3],[2,2,5],[2,4,1]]) \n",
    "B = np.array([[1,2,3],[2,2,5]],dtype='float32')\n",
    "\n",
    "matrixDeteminant = np.linalg.det(A) #matrix determinant (A must be a square matrix)\n",
    "print \"Determinant = \", matrixDeteminant\n",
    "\n",
    "matrixInverse = np.linalg.inv(A) #matrix inverse (A must be a square non singular matrix)\n",
    "print \"Inverse = \", matrixInverse\n",
    "\n",
    "matrixPseudoInverse = np.linalg.pinv(B)\n",
    "print \"Pseudo Inverse = \", matrixPseudoInverse\n",
    "\n",
    "matrixNorm = np.linalg.norm(A)\n",
    "print \"Matrix Norm = \", matrixNorm\n",
    "\n",
    "eigenValues = np.linalg.eig(A)[0]\n",
    "print \"Matrix Eigne Values = \", eigenValues\n",
    "\n",
    "eigenVectors = np.linalg.eig(A)[1]\n",
    "print \"Matrix Eigne Vectors = \", eigenVectors\n",
    "\n",
    "matrixRank = np.linalg.matrix_rank(A)\n",
    "print \"Matrix Rank = \", matrixRank\n",
    "\n",
    "ceilNumber = np.ceil(10.2) # round up 10.2 to be 11\n",
    "print \"Number Ceil = \", ceilNumber\n",
    "\n",
    "floorNumber = np.floor(10.2)#round down 10.2 to be 10\n",
    "print \"Number Floor = \", floorNumber\n",
    "\n",
    "transposedMatrix = B.T      #matrix trnaspose \n",
    "transposedMatrix = np.transpose(B) #another way to do matrix transpose \n",
    "print \"shape of transposed array is\", transposedMatrix.shape \n",
    "\n",
    "diagonal = np.diag(A)\n",
    "print \"Matrix diagonal is \", diagonal\n",
    "\n",
    "P, D, Q = np.linalg.svd(A, full_matrices=False)"
   ]
  },
  {
   "cell_type": "markdown",
   "metadata": {},
   "source": [
    "# Write Numpy Array to CSV File"
   ]
  },
  {
   "cell_type": "code",
   "execution_count": 8,
   "metadata": {
    "collapsed": false
   },
   "outputs": [],
   "source": [
    "data = np.random.rand(100,4) #random array of size 100x15\n",
    "hdr = 'hight,weight,gender,age'\n",
    "fileName = '../data.csv'\n",
    "np.savetxt(fileName,data,header=hdr,delimiter=',',comments=' ')"
   ]
  },
  {
   "cell_type": "markdown",
   "metadata": {},
   "source": [
    "# Read Data From CSV File"
   ]
  },
  {
   "cell_type": "code",
   "execution_count": 7,
   "metadata": {
    "collapsed": false
   },
   "outputs": [],
   "source": [
    "fileName = 'data.csv'\n",
    "data = np.loadtxt(fileName,delimiter=',',comments=' ')"
   ]
  },
  {
   "cell_type": "code",
   "execution_count": 4,
   "metadata": {
    "collapsed": false
   },
   "outputs": [
    {
     "data": {
      "text/plain": [
       "(100, 4)"
      ]
     },
     "execution_count": 4,
     "metadata": {},
     "output_type": "execute_result"
    }
   ],
   "source": [
    "data.shape"
   ]
  },
  {
   "cell_type": "code",
   "execution_count": 11,
   "metadata": {
    "collapsed": true
   },
   "outputs": [],
   "source": [
    "y = data[:,0]\n",
    "x = data[:,1:]"
   ]
  },
  {
   "cell_type": "code",
   "execution_count": 10,
   "metadata": {
    "collapsed": false
   },
   "outputs": [
    {
     "name": "stdout",
     "output_type": "stream",
     "text": [
      "(100, 3)\n"
     ]
    }
   ],
   "source": [
    "print x.shape"
   ]
  }
 ],
 "metadata": {
  "kernelspec": {
   "display_name": "Python 2",
   "language": "python",
   "name": "python2"
  },
  "language_info": {
   "codemirror_mode": {
    "name": "ipython",
    "version": 2
   },
   "file_extension": ".py",
   "mimetype": "text/x-python",
   "name": "python",
   "nbconvert_exporter": "python",
   "pygments_lexer": "ipython2",
   "version": "2.7.11"
  }
 },
 "nbformat": 4,
 "nbformat_minor": 0
}
