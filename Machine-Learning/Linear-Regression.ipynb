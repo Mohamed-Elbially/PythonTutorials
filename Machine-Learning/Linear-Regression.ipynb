{
 "cells": [
  {
   "cell_type": "code",
   "execution_count": 4,
   "metadata": {
    "collapsed": false
   },
   "outputs": [],
   "source": [
    "import matplotlib.pyplot as plt\n",
    "import numpy as np\n",
    "from sklearn import datasets, linear_model\n",
    "%matplotlib inline "
   ]
  },
  {
   "cell_type": "markdown",
   "metadata": {},
   "source": [
    "# Linear Regression using Sklearn package "
   ]
  },
  {
   "cell_type": "code",
   "execution_count": 9,
   "metadata": {
    "collapsed": false
   },
   "outputs": [
    {
     "name": "stdout",
     "output_type": "stream",
     "text": [
      "Coefficients: [ -10.01219782 -239.81908937  519.83978679  324.39042769 -792.18416163\n",
      "  476.74583782  101.04457032  177.06417623  751.27932109   67.62538639]\n",
      "\n",
      "Bias: 152.133484163 \n",
      "\n"
     ]
    }
   ],
   "source": [
    "lr = linear_model.LinearRegression()  # initialize linear regression model \n",
    "\n",
    "diabetes = datasets.load_diabetes()   # load diabetes dataset\n",
    "data = diabetes.data                  # extract feature matrix\n",
    "target = diabetes.target              # extract target vector\n",
    "\n",
    "# Train the model using the training sets\n",
    "lr.fit(data,target)\n",
    "\n",
    "print 'Coefficients: {v}\\n'.format(v = lr.coef_)\n",
    "print 'Bias: {v} \\n'.format(v = lr.intercept_)"
   ]
  },
  {
   "cell_type": "markdown",
   "metadata": {},
   "source": [
    "# Linear Regression using plain python"
   ]
  },
  {
   "cell_type": "code",
   "execution_count": 55,
   "metadata": {
    "collapsed": false
   },
   "outputs": [
    {
     "name": "stdout",
     "output_type": "stream",
     "text": [
      "Coefficients: \n",
      "[ -10.01219782 -239.81908937  519.83978679  324.39042769 -792.18416163\n",
      "  476.74583782  101.04457032  177.06417623  751.27932109   67.62538639]\n",
      "Bias: \n",
      "152.133484163\n"
     ]
    }
   ],
   "source": [
    "diabetes = datasets.load_diabetes()   # load diabetes dataset\n",
    "data = diabetes.data                  # extract feature matrix\n",
    "target = diabetes.target              # extract target vector \n",
    "temp = np.ones_like(target)           # create vector of ones \n",
    "temp.shape = (target.shape[0],1)      # change the shape of the vector \n",
    "data = np.hstack((temp,data))         # generate array of ones with the same shape as y\n",
    "coeffecients = np.dot(np.linalg.inv(np.dot(data.T,data)),np.dot(data.T,target))\n",
    "print 'Coefficients: \\n', coeffecients[1:]\n",
    "print 'Bias: \\n', coeffecients[0]"
   ]
  },
  {
   "cell_type": "code",
   "execution_count": 51,
   "metadata": {
    "collapsed": false
   },
   "outputs": [
    {
     "ename": "SyntaxError",
     "evalue": "invalid syntax (<ipython-input-51-2141f3a3930f>, line 5)",
     "output_type": "error",
     "traceback": [
      "\u001b[1;36m  File \u001b[1;32m\"<ipython-input-51-2141f3a3930f>\"\u001b[1;36m, line \u001b[1;32m5\u001b[0m\n\u001b[1;33m    B.shape=442,1\u001b[0m\n\u001b[1;37m    ^\u001b[0m\n\u001b[1;31mSyntaxError\u001b[0m\u001b[1;31m:\u001b[0m invalid syntax\n"
     ]
    }
   ],
   "source": [
    "diabetes = datasets.load_diabetes()   # load diabetes dataset\n",
    "data = diabetes.data                  # extract feature matrix\n",
    "target = diabetes.target              # extract target vector \n",
    "data.hstack(np.ones_like(y)           # generate array of ones with the same shape as y\n",
    "B.shape=442,1\n",
    "x=np.hstack((B,A)) # x array after adding ones' column \n"
   ]
  },
  {
   "cell_type": "code",
   "execution_count": 18,
   "metadata": {
    "collapsed": false
   },
   "outputs": [
    {
     "data": {
      "text/plain": [
       "(442,)"
      ]
     },
     "execution_count": 18,
     "metadata": {},
     "output_type": "execute_result"
    }
   ],
   "source": [
    "f = np.ones_like(target)\n",
    "f.shape"
   ]
  },
  {
   "cell_type": "code",
   "execution_count": null,
   "metadata": {
    "collapsed": true
   },
   "outputs": [],
   "source": []
  }
 ],
 "metadata": {
  "kernelspec": {
   "display_name": "Python 2",
   "language": "python",
   "name": "python2"
  },
  "language_info": {
   "codemirror_mode": {
    "name": "ipython",
    "version": 2
   },
   "file_extension": ".py",
   "mimetype": "text/x-python",
   "name": "python",
   "nbconvert_exporter": "python",
   "pygments_lexer": "ipython2",
   "version": "2.7.11"
  }
 },
 "nbformat": 4,
 "nbformat_minor": 0
}
