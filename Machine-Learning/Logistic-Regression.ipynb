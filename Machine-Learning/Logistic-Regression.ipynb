{
 "cells": [
  {
   "cell_type": "code",
   "execution_count": 57,
   "metadata": {
    "collapsed": false
   },
   "outputs": [],
   "source": [
    "import numpy as np\n",
    "from sklearn import datasets\n",
    "from sklearn.linear_model import LogisticRegression\n",
    "from sklearn import metrics\n",
    "from sklearn.preprocessing import normalize,scale\n",
    "import matplotlib.pyplot as plt\n",
    "%matplotlib inline "
   ]
  },
  {
   "cell_type": "markdown",
   "metadata": {},
   "source": [
    "# Logistic Regression using Sklearn package "
   ]
  },
  {
   "cell_type": "code",
   "execution_count": 262,
   "metadata": {
    "collapsed": false
   },
   "outputs": [
    {
     "name": "stdout",
     "output_type": "stream",
     "text": [
      "             precision    recall  f1-score   support\n",
      "\n",
      "          0       1.00      1.00      1.00        50\n",
      "          1       1.00      1.00      1.00        50\n",
      "\n",
      "avg / total       1.00      1.00      1.00       100\n",
      "\n",
      "[[50  0]\n",
      " [ 0 50]]\n",
      "Coefficients: [[ 0.81091424 -1.16601465  1.52533197  1.5428075 ]]\n",
      "\n",
      "Bias: [ 0.10503024] \n",
      "\n"
     ]
    }
   ],
   "source": [
    "Iris = datasets.load_iris() # Iris dataset \n",
    "Iris_Data = Iris.data       # extract Iris data\n",
    "Iris_Target = Iris.target   # extract Iris targets\n",
    "\n",
    "data = Iris_Data[:100,:]     # Extract 2 class data instead of the 3 class\n",
    "target = Iris_Target[:100]   # Extract 2 class target instead of the 3 class\n",
    "\n",
    "normalized_data = normalize(data, norm = 'l2') #Normalize the data\n",
    "standarized_data = scale(data) #Standarize the data\n",
    "\n",
    "lr = LogisticRegression()        # Initialize the logistic regression model \n",
    "lr.fit(standarized_data,target)  # train the model\n",
    "\n",
    "predictedLabels = lr.predict(standarized_data) # test the model on the training data\n",
    "# print a report about classification performance \n",
    "print (metrics.classification_report(target,predictedLabels)) \n",
    "# Print confusion matrix \n",
    "print (metrics.confusion_matrix(target,predictedLabels))\n",
    "print 'Coefficients: {v}\\n'.format(v = lr.coef_) # Print weights \n",
    "print 'Bias: {v} \\n'.format(v = lr.intercept_)   # print bias"
   ]
  },
  {
   "cell_type": "markdown",
   "metadata": {},
   "source": [
    "# Activation Functions "
   ]
  },
  {
   "cell_type": "code",
   "execution_count": 268,
   "metadata": {
    "collapsed": false
   },
   "outputs": [
    {
     "data": {
      "image/png": "[encoded data removed]",
      "text/plain": [
       "<matplotlib.figure.Figure at 0x7f815cf594d0>"
      ]
     },
     "metadata": {},
     "output_type": "display_data"
    }
   ],
   "source": [
    "class ActivationFunctions (object):\n",
    "    \"\"\"\n",
    "    This class generates different well-knwon activation functions\n",
    "    x : is the data to apply the activation function on it.\n",
    "    Defaukt value is np.linspace(-10,10,1000)\n",
    "    \"\"\"\n",
    "    \n",
    "    def __init__ (self):\n",
    "        pass\n",
    "    \n",
    "    def Sigmoid(self,x):\n",
    "        self.y = 1.0 / (1+np.exp(-x))\n",
    "        return self.y\n",
    "    \n",
    "    def ReLU(self,x):\n",
    "        self.y = np.maximum(0,x)\n",
    "        return self.y\n",
    "    \n",
    "    def Tanh(self,x):\n",
    "        self.y = np.tanh(x)\n",
    "        return self.y\n",
    "    \n",
    "    def UnitStep(self,x):\n",
    "        self.y = np.where(x>=0 , 1,0)\n",
    "        return self.y\n",
    "    \n",
    "    def DrawActivationFunction (self,x):\n",
    "        plt.plot(x,self.y)\n",
    "        plt.title ('Activation Function')\n",
    "        plt.xlabel('X')\n",
    "        plt.ylabel('F(x)')\n",
    "        \n",
    "    \n",
    "activationFn = ActivationFunctions()\n",
    "y = activationFn.Tanh(np.linspace(-10,10,1000))\n",
    "activationFn.DrawActivationFunction(np.linspace(-10,10,1000))"
   ]
  },
  {
   "cell_type": "markdown",
   "metadata": {},
   "source": [
    "# Cost Functions"
   ]
  },
  {
   "cell_type": "code",
   "execution_count": 342,
   "metadata": {
    "collapsed": false
   },
   "outputs": [],
   "source": [
    "class CostFunctions (object):\n",
    "    \n",
    "    def __init__ (self):\n",
    "        pass\n",
    "    \n",
    "    def NLL (self,yPredicted,target,data):\n",
    "        cost = (1./target.shape[0]) * (-target.T.dot(np.log(yPredicted)) - (1-target).T.dot(np.log(1-yPredicted)))\n",
    "        grad = (1./target.shape[0]) * np.dot((target - yPredicted),data)\n",
    "        return cost, grad  \n",
    "    \n",
    "    def MSE (self,yPredicted,target,data):\n",
    "        cost =  0.5 * sum(np.sqrt(np.power(slef.target - yPredicted),2))\n",
    "        grad =  np.dot((self.target - yPredicted),self.data)\n",
    "        return cost, grad  \n",
    "    \n",
    "    def CrossEntropy(self,yPredicted,target,data):\n",
    "        pass\n",
    "    \n",
    "    def softmax(self,yPredicted,target,data):\n",
    "        return np.exp(yPredicted) / np.sum(np.exp(yPredicted))\n",
    "    "
   ]
  },
  {
   "cell_type": "markdown",
   "metadata": {},
   "source": [
    "# Weight Update Rules"
   ]
  },
  {
   "cell_type": "code",
   "execution_count": 397,
   "metadata": {
    "collapsed": false
   },
   "outputs": [],
   "source": [
    "class WeightUpdateRules (object):\n",
    "    \n",
    "    def __init__ (self,data=[],target=[],weights=[],batchSize=1,eta=0.01,epochs = 100):\n",
    "        self.target = target  \n",
    "        self.data = data\n",
    "        self.weights = weights\n",
    "        self.batchSize = batchSize\n",
    "        self.eta = eta\n",
    "        self.epochs = epochs\n",
    "        self.costError = []\n",
    "        self.activationFn = ActivationFunctions()\n",
    "        self.costFn = CostFunctions()\n",
    "        \n",
    "    def GD (self):\n",
    "        for i in np.arange(self.epochs):\n",
    "            z = self.NetInput(self.data,self.weights)\n",
    "            yPredicted = self.activationFn.Sigmoid(z)\n",
    "            cost,grad = self.costFn.NLL(yPredicted,self.target,self.data)\n",
    "            self.weights += self.eta*grad\n",
    "            self.costError.append(cost) \n",
    "            print 'Epoch # {e:3d} , Error = {v:4.4f} \\n'.format(e=i+1,v=cost)\n",
    "            \n",
    "            \n",
    "    def SGD (self):\n",
    "        for i in np.arange(self.epochs):\n",
    "            costErr = 0\n",
    "            for record, label in zip(self.data, self.target):\n",
    "                z = self.NetInput(record,self.weights)\n",
    "                yPredicted = self.activationFn.Sigmoid(z)\n",
    "                cost,grad = self.costFn.NLL(yPredicted,label,record)\n",
    "                costErr += cost\n",
    "                self.weights += self.eta*grad\n",
    "                \n",
    "            self.costError.append(costErr)\n",
    "            print 'Epoch # {e:3d} , Error = {v:4.4f} \\n'.format(e=i+1,v=costErr)\n",
    "    \n",
    "    def BatchSGD (self):\n",
    "        batchCerator = self.iter_minibatches()\n",
    "        for i in np.arange(self.epochs):\n",
    "            costErr = 0\n",
    "            for batch,label in batchCerator:\n",
    "                z = self.NetInput(batch,self.weights)\n",
    "                yPredicted = self.activationFn.Sigmoid(z)\n",
    "                cost,grad = self.costFn.NLL(yPredicted,label,batch)\n",
    "                costErr += cost\n",
    "                self.weights += self.eta*grad\n",
    "                \n",
    "            self.costError.append(costErr)\n",
    "            print 'Epoch # {e:3d} , Error = {v:4.4f} \\n'.format(e=i+1,v=costErr)\n",
    "    \n",
    "    def NetInput (self,x,w):\n",
    "        return np.dot(x,w)\n",
    "    \n",
    "    def iter_minibatches(self):\n",
    "    # Provide chunks one by one\n",
    "        chunkstartmarker = 0\n",
    "        while chunkstartmarker < self.data.shape[0]:\n",
    "            chunkrows = range(chunkstartmarker,chunkstartmarker+self.batchSize)\n",
    "            X_chunk, y_chunk = self.data[chunkrows,:], self.target[chunkrows]\n",
    "            yield X_chunk, y_chunk\n",
    "            chunkstartmarker += self.batchSize"
   ]
  },
  {
   "cell_type": "markdown",
   "metadata": {},
   "source": [
    "# Logistic Regression using plain python"
   ]
  },
  {
   "cell_type": "code",
   "execution_count": 398,
   "metadata": {
    "collapsed": false
   },
   "outputs": [],
   "source": [
    "class LogisticRegression2 (object):\n",
    "    \n",
    "    def __init__(self, eta=0.01, epochs=150):\n",
    "        self.eta = eta\n",
    "        self.epochs = epochs\n",
    "        self.activationFn = ActivationFunctions()\n",
    "        \n",
    "    def fit (self,data, target):\n",
    "        self.w = np.zeros(data.shape[1])\n",
    "        updateRule = WeightUpdateRules(data=data,target=target,weights=self.w,eta=self.eta,epochs = self.epochs)\n",
    "        updateRule.GD()\n",
    "        self.cost = updateRule.costError\n",
    "        self.w = updateRule.weights\n",
    "        \n",
    "    def predict (self,x,w):\n",
    "        yPredicted = self.activationFn.Sigmoid(self.NetInput(x,w))\n",
    "        return np.where (yPredicted>0.5,1,0)\n",
    "        \n",
    "    def NetInput (self,x,w):\n",
    "        \n",
    "        return np.dot(x,w)\n",
    "    \n",
    "    def PlotCostError(self):\n",
    "        plt.plot(range(1, len(self.cost) + 1), self.cost)"
   ]
  },
  {
   "cell_type": "markdown",
   "metadata": {},
   "source": [
    "# Test LogisticRegression2"
   ]
  },
  {
   "cell_type": "code",
   "execution_count": 400,
   "metadata": {
    "collapsed": false
   },
   "outputs": [
    {
     "name": "stdout",
     "output_type": "stream",
     "text": [
      "Epoch #   1 , Error = 0.6931 \n",
      "\n",
      "Epoch #   2 , Error = 0.6243 \n",
      "\n",
      "Epoch #   3 , Error = 0.5655 \n",
      "\n",
      "Epoch #   4 , Error = 0.5150 \n",
      "\n",
      "Epoch #   5 , Error = 0.4716 \n",
      "\n",
      "Epoch #   6 , Error = 0.4341 \n",
      "\n",
      "Epoch #   7 , Error = 0.4015 \n",
      "\n",
      "Epoch #   8 , Error = 0.3730 \n",
      "\n",
      "Epoch #   9 , Error = 0.3480 \n",
      "\n",
      "Epoch #  10 , Error = 0.3259 \n",
      "\n",
      "Epoch #  11 , Error = 0.3062 \n",
      "\n",
      "Epoch #  12 , Error = 0.2887 \n",
      "\n",
      "Epoch #  13 , Error = 0.2729 \n",
      "\n",
      "Epoch #  14 , Error = 0.2588 \n",
      "\n",
      "Epoch #  15 , Error = 0.2459 \n",
      "\n",
      "Epoch #  16 , Error = 0.2343 \n",
      "\n",
      "Epoch #  17 , Error = 0.2237 \n",
      "\n",
      "Epoch #  18 , Error = 0.2139 \n",
      "\n",
      "Epoch #  19 , Error = 0.2050 \n",
      "\n",
      "Epoch #  20 , Error = 0.1968 \n",
      "\n",
      "Epoch #  21 , Error = 0.1892 \n",
      "\n",
      "Epoch #  22 , Error = 0.1821 \n",
      "\n",
      "Epoch #  23 , Error = 0.1756 \n",
      "\n",
      "Epoch #  24 , Error = 0.1695 \n",
      "\n",
      "Epoch #  25 , Error = 0.1638 \n",
      "\n",
      "Epoch #  26 , Error = 0.1585 \n",
      "\n",
      "Epoch #  27 , Error = 0.1536 \n",
      "\n",
      "Epoch #  28 , Error = 0.1489 \n",
      "\n",
      "Epoch #  29 , Error = 0.1445 \n",
      "\n",
      "Epoch #  30 , Error = 0.1404 \n",
      "\n",
      "Epoch #  31 , Error = 0.1365 \n",
      "\n",
      "Epoch #  32 , Error = 0.1328 \n",
      "\n",
      "Epoch #  33 , Error = 0.1293 \n",
      "\n",
      "Epoch #  34 , Error = 0.1259 \n",
      "\n",
      "Epoch #  35 , Error = 0.1228 \n",
      "\n",
      "Epoch #  36 , Error = 0.1198 \n",
      "\n",
      "Epoch #  37 , Error = 0.1170 \n",
      "\n",
      "Epoch #  38 , Error = 0.1143 \n",
      "\n",
      "Epoch #  39 , Error = 0.1117 \n",
      "\n",
      "Epoch #  40 , Error = 0.1092 \n",
      "\n",
      "Epoch #  41 , Error = 0.1068 \n",
      "\n",
      "Epoch #  42 , Error = 0.1046 \n",
      "\n",
      "Epoch #  43 , Error = 0.1024 \n",
      "\n",
      "Epoch #  44 , Error = 0.1003 \n",
      "\n",
      "Epoch #  45 , Error = 0.0984 \n",
      "\n",
      "Epoch #  46 , Error = 0.0964 \n",
      "\n",
      "Epoch #  47 , Error = 0.0946 \n",
      "\n",
      "Epoch #  48 , Error = 0.0928 \n",
      "\n",
      "Epoch #  49 , Error = 0.0911 \n",
      "\n",
      "Epoch #  50 , Error = 0.0895 \n",
      "\n",
      "             precision    recall  f1-score   support\n",
      "\n",
      "          0       1.00      1.00      1.00        50\n",
      "          1       1.00      1.00      1.00        50\n",
      "\n",
      "avg / total       1.00      1.00      1.00       100\n",
      "\n",
      "[[50  0]\n",
      " [ 0 50]]\n",
      "Coefficients: [ 0.58503139 -0.64559718  0.86867061  0.86431778]\n",
      "\n",
      "Bias: 0.0156711753606 \n",
      "\n"
     ]
    },
    {
     "data": {
      "image/png": "[encoded data removed]",
      "text/plain": [
       "<matplotlib.figure.Figure at 0x7f815cc87710>"
      ]
     },
     "metadata": {},
     "output_type": "display_data"
    }
   ],
   "source": [
    "Iris = datasets.load_iris() # Iris dataset \n",
    "Iris_Data = Iris.data       # extract Iris data\n",
    "Iris_Target = Iris.target   # extract Iris targets\n",
    "\n",
    "data = Iris_Data[:100,:]     # Extract 2 class data instead of the 3 class\n",
    "target = Iris_Target[:100]   # Extract 2 class target instead of the 3 class\n",
    "\n",
    "normalized_data = normalize(data, norm = 'l2') #Normalize the data\n",
    "standarized_data = scale(data) #Standarize the data\n",
    "temp = np.ones_like(target)           # create vector of ones \n",
    "temp.shape = (target.shape[0],1)      # change the shape of the vector \n",
    "data = np.hstack((temp,standarized_data)) \n",
    "lr = LogisticRegression2(eta = 0.1, epochs=50)\n",
    "lr.fit(data = data,target = target)\n",
    "yPredicted = lr.predict(data,lr.w)\n",
    "\n",
    "lr.PlotCostError()\n",
    "\n",
    "# print a report about classification performance \n",
    "print (metrics.classification_report(target,yPredicted)) \n",
    "# Print confusion matrix \n",
    "print (metrics.confusion_matrix(target,yPredicted))\n",
    "print 'Coefficients: {v}\\n'.format(v = lr.w[1:]) # Print weights \n",
    "print 'Bias: {v} \\n'.format(v = lr.w[0])   # print bias"
   ]
  }
 ],
 "metadata": {
  "kernelspec": {
   "display_name": "Python 2",
   "language": "python",
   "name": "python2"
  },
  "language_info": {
   "codemirror_mode": {
    "name": "ipython",
    "version": 2
   },
   "file_extension": ".py",
   "mimetype": "text/x-python",
   "name": "python",
   "nbconvert_exporter": "python",
   "pygments_lexer": "ipython2",
   "version": "2.7.11"
  }
 },
 "nbformat": 4,
 "nbformat_minor": 0
}
