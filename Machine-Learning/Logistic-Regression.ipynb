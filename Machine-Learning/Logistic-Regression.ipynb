{
 "cells": [
  {
   "cell_type": "code",
   "execution_count": 57,
   "metadata": {
    "collapsed": false
   },
   "outputs": [],
   "source": [
    "import numpy as np\n",
    "from sklearn import datasets\n",
    "from sklearn.linear_model import LogisticRegression\n",
    "from sklearn import metrics\n",
    "from sklearn.preprocessing import normalize,scale\n",
    "import matplotlib.pyplot as plt\n",
    "%matplotlib inline "
   ]
  },
  {
   "cell_type": "markdown",
   "metadata": {},
   "source": [
    "# Logistic Regression using Sklearn package "
   ]
  },
  {
   "cell_type": "code",
   "execution_count": 40,
   "metadata": {
    "collapsed": false
   },
   "outputs": [
    {
     "name": "stdout",
     "output_type": "stream",
     "text": [
      "             precision    recall  f1-score   support\n",
      "\n",
      "          0       1.00      1.00      1.00        50\n",
      "          1       1.00      1.00      1.00        50\n",
      "\n",
      "avg / total       1.00      1.00      1.00       100\n",
      "\n",
      "[[50  0]\n",
      " [ 0 50]]\n",
      "Coefficients: [[ 0.81091424 -1.16601465  1.52533197  1.5428075 ]]\n",
      "\n",
      "Bias: [ 0.10503024] \n",
      "\n"
     ]
    }
   ],
   "source": [
    "Iris = datasets.load_iris() # Iris dataset \n",
    "Iris_Data = Iris.data       # extract Iris data\n",
    "Iris_Target = Iris.target   # extract Iris targets\n",
    "\n",
    "data = Iris_Data[:100,:]     # Extract 2 class data instead of the 3 class\n",
    "target = Iris_Target[:100]   # Extract 2 class target instead of the 3 class\n",
    "\n",
    "normalized_data = normalize(data, norm = 'l2') #Normalize the data\n",
    "standarized_data = scale(data) #Standarize the data\n",
    "\n",
    "lr = LogisticRegression()        # Initialize the logistic regression model \n",
    "lr.fit(standarized_data,target)  # train the model\n",
    "\n",
    "predictedLabels = lr.predict(standarized_data) # test the model on the training data\n",
    "# print a report about classification performance \n",
    "print (metrics.classification_report(target,predictedLabels)) \n",
    "# Print confusion matrix \n",
    "print (metrics.confusion_matrix(target,predictedLabels))\n",
    "print 'Coefficients: {v}\\n'.format(v = lr.coef_) # Print weights \n",
    "print 'Bias: {v} \\n'.format(v = lr.intercept_)   # print bias"
   ]
  },
  {
   "cell_type": "markdown",
   "metadata": {},
   "source": [
    "# Activation Functions "
   ]
  },
  {
   "cell_type": "code",
   "execution_count": 72,
   "metadata": {
    "collapsed": false
   },
   "outputs": [
    {
     "data": {
      "image/png": "[encoded data removed]",
      "text/plain": [
       "<matplotlib.figure.Figure at 0x7f815d18a6d0>"
      ]
     },
     "metadata": {},
     "output_type": "display_data"
    }
   ],
   "source": [
    "class ActivationFunctions (object):\n",
    "    \"\"\"\n",
    "    This class generates different well-knwon activation functions\n",
    "    x : is the data to apply the activation function on it.\n",
    "    Defaukt value is np.linspace(-10,10,1000)\n",
    "    \"\"\"\n",
    "    \n",
    "    def __init__ (self,x = np.linspace(-10,10,1000)):\n",
    "        self.data = x\n",
    "        self.y = self.Sigmoid()\n",
    "    \n",
    "    def Sigmoid(self):\n",
    "        self.y = 1.0 / (1+np.exp(-self.data))\n",
    "        return self.y\n",
    "    \n",
    "    def ReLU(self):\n",
    "        self.y = np.maximum(0,self.data)\n",
    "        return self.y\n",
    "    \n",
    "    def Tanh(self):\n",
    "        self.y = np.tanh(self.data)\n",
    "        return self.y\n",
    "    \n",
    "    def UnitStep(self):\n",
    "        self.y = np.where(self.data>=0 , 1,0)\n",
    "        return self.y\n",
    "    \n",
    "    def DrawActivationFunction (self):\n",
    "        plt.plot(self.data,self.y)\n",
    "        plt.title ('Activation Function')\n",
    "        plt.xlabel('X')\n",
    "        plt.ylabel('F(x)')\n",
    "    \n",
    "activationFn = ActivationFunctions()\n",
    "y = activationFn.Tanh()\n",
    "activationFn.DrawActivationFunction()"
   ]
  },
  {
   "cell_type": "markdown",
   "metadata": {},
   "source": [
    "# Cost Functions"
   ]
  },
  {
   "cell_type": "code",
   "execution_count": 75,
   "metadata": {
    "collapsed": true
   },
   "outputs": [],
   "source": [
    "class CostFunctions (object):\n",
    "    \n",
    "    def __init__ (self, target=[], predictedLabels=[]):\n",
    "        self.target = target\n",
    "        self.predictedLabels = predictedLabels\n",
    "    \n",
    "    def NLL (self):\n",
    "        pass\n",
    "    \n",
    "    def MSE (self):\n",
    "        pass\n",
    "    \n",
    "    def CrossEntropy(self):\n",
    "        pass"
   ]
  },
  {
   "cell_type": "markdown",
   "metadata": {},
   "source": [
    "# Cost Gradients"
   ]
  },
  {
   "cell_type": "code",
   "execution_count": 96,
   "metadata": {
    "collapsed": true
   },
   "outputs": [],
   "source": [
    "class CostGradientFunctions (object):\n",
    "    \n",
    "    def __init__ (self, target=[], data=[], weights=[]):\n",
    "        self.data = data\n",
    "        slef.target = target\n",
    "        slef.weights = weights\n",
    "    \n",
    "    def NLLGradient (self):\n",
    "        pass\n",
    "    \n",
    "    def MSEGradient (self):\n",
    "        pass\n",
    "    \n",
    "    def CrossEntropyGradient(self):\n",
    "        pass"
   ]
  },
  {
   "cell_type": "markdown",
   "metadata": {},
   "source": [
    "# Weight Update Rules"
   ]
  },
  {
   "cell_type": "code",
   "execution_count": 112,
   "metadata": {
    "collapsed": false
   },
   "outputs": [],
   "source": [
    "class WeightUpdateRules (object):\n",
    "    \n",
    "    def __init__ (self,data=[],target=[],weights=[],batchSize=1,eta=0.01,epochs = 100):\n",
    "        self.target = target  \n",
    "        self.data = data\n",
    "        self.weights = weights\n",
    "        self.batchSize = batchSize\n",
    "        self.eta = eta\n",
    "        self.epochs = epochs\n",
    "        slef.costError = []\n",
    "        #slef.activationFn = ActivationFunctions()\n",
    "        #self.costFn = CostFunctions()\n",
    "        #self.costGradientFn = CostGradientFunctions()\n",
    "        \n",
    "    def GD (self):\n",
    "        for _ in np.arange(epochs):\n",
    "            z = NetInput(self.data,self.weights)\n",
    "            activationFn = ActivationFunctions(x=z)\n",
    "            yPredicted = activationFn.Sigmoid()\n",
    "            costGradientFn = CostGradientFunctions()\n",
    "            costGradient = costGradientFn.NLLGradient()\n",
    "            costErrorFn = CostFunctions()\n",
    "            costErr = costErrorFn.NLL()\n",
    "            self.costError.push(costErr)\n",
    "            self.weights += self.eta*costGradient         \n",
    "            \n",
    "    def SGD (self):\n",
    "        for _ in np.arange(epochs):\n",
    "            costErr = 0\n",
    "            for record in self.data:\n",
    "                z = NetInput(record,self.weights)\n",
    "                activationFn = ActivationFunctions(x=z)\n",
    "                yPredicted = activationFn.Sigmoid()\n",
    "                costGradientFn = CostGradientFunctions()\n",
    "                costGradient = costGradientFn.NLLGradient()\n",
    "                costErrorFn = CostFunctions()\n",
    "                costErr += costErrorFn.NLL()\n",
    "                self.weights += self.eta*costGradient\n",
    "                \n",
    "            self.costError.push(costErr)\n",
    "    \n",
    "    def BatchSGD (self):\n",
    "        for _ in np.arange(epochs):\n",
    "            costErr = 0\n",
    "            for batch in batches:\n",
    "                z = NetInput(batch,self.weights)\n",
    "                activationFn = ActivationFunctions(x=z)\n",
    "                yPredicted = activationFn.Sigmoid()\n",
    "                costGradientFn = CostGradientFunctions()\n",
    "                costGradient = costGradientFn.NLLGradient()\n",
    "                costErrorFn = CostFunctions()\n",
    "                costErr += costErrorFn.NLL()\n",
    "                self.weights += self.eta*costGradient\n",
    "                \n",
    "            self.costError.push(costErr)\n",
    "    \n",
    "    def NetInput (self,x,w):\n",
    "        return np.dot(x,w)\n",
    "    \n",
    "    def iter_minibatches(self):\n",
    "    # Provide chunks one by one\n",
    "    chunkstartmarker = 0\n",
    "    while chunkstartmarker < numtrainingpoints:\n",
    "        chunkrows = range(chunkstartmarker,chunkstartmarker+chunksize)\n",
    "        X_chunk, y_chunk = getrows(chunkrows)\n",
    "        yield X_chunk, y_chunk\n",
    "        chunkstartmarker += chunksize"
   ]
  },
  {
   "cell_type": "markdown",
   "metadata": {},
   "source": [
    "# Logistic Regression using plain python"
   ]
  },
  {
   "cell_type": "code",
   "execution_count": 110,
   "metadata": {
    "collapsed": true
   },
   "outputs": [],
   "source": [
    "class LogisticRegression2 (object):\n",
    "    \n",
    "    def __init__(self, eta=0.01, epochs=50):\n",
    "        self.eta = eta\n",
    "        self.epochs = epochs\n",
    "        \n",
    "    def fit (slef,data, target):\n",
    "        pass\n",
    "    \n",
    "    def predict (self,z):\n",
    "        np.where (z>0.5,1,0)\n",
    "    \n",
    "    def NetInput (self,x,w):\n",
    "        return np.dot(x,w)\n",
    "    \n",
    "    def PlotCostError(self):\n",
    "        pass"
   ]
  },
  {
   "cell_type": "markdown",
   "metadata": {},
   "source": [
    "# Test LogisticRegression2"
   ]
  },
  {
   "cell_type": "code",
   "execution_count": 106,
   "metadata": {
    "collapsed": true
   },
   "outputs": [],
   "source": [
    "Iris = datasets.load_iris() # Iris dataset \n",
    "Iris_Data = Iris.data       # extract Iris data\n",
    "Iris_Target = Iris.target   # extract Iris targets\n",
    "\n",
    "data = Iris_Data[:100,:]     # Extract 2 class data instead of the 3 class\n",
    "target = Iris_Target[:100]   # Extract 2 class target instead of the 3 class\n",
    "\n",
    "normalized_data = normalize(data, norm = 'l2') #Normalize the data\n",
    "standarized_data = scale(data) #Standarize the data\n"
   ]
  },
  {
   "cell_type": "code",
   "execution_count": null,
   "metadata": {
    "collapsed": true
   },
   "outputs": [],
   "source": []
  }
 ],
 "metadata": {
  "kernelspec": {
   "display_name": "Python 2",
   "language": "python",
   "name": "python2"
  },
  "language_info": {
   "codemirror_mode": {
    "name": "ipython",
    "version": 2
   },
   "file_extension": ".py",
   "mimetype": "text/x-python",
   "name": "python",
   "nbconvert_exporter": "python",
   "pygments_lexer": "ipython2",
   "version": "2.7.11"
  }
 },
 "nbformat": 4,
 "nbformat_minor": 0
}
