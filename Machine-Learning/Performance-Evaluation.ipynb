{
 "cells": [
  {
   "cell_type": "code",
   "execution_count": 64,
   "metadata": {
    "collapsed": false
   },
   "outputs": [],
   "source": [
    "import numpy as np\n",
    "from sklearn.metrics import auc, classification_report,confusion_matrix\n",
    "from sklearn import datasets\n",
    "from sklearn.linear_model import LogisticRegression,LinearRegression\n",
    "import sklearn.cross_validation as crossValidation"
   ]
  },
  {
   "cell_type": "markdown",
   "metadata": {
    "collapsed": true
   },
   "source": [
    "# Train-Test Splitting Algorithms \n",
    "1) Holdout Method\n",
    "2) Leave-One-Out Method \n",
    "3) K-Fold Cross Validation Method"
   ]
  },
  {
   "cell_type": "markdown",
   "metadata": {},
   "source": [
    "# Holdout Method "
   ]
  },
  {
   "cell_type": "code",
   "execution_count": 65,
   "metadata": {
    "collapsed": false
   },
   "outputs": [],
   "source": [
    "iris = datasets.load_iris()  # Load Iris dataset\n",
    "# split the dataset into 40% Testing and 60% Training \n",
    "X_train, X_test, y_train, y_test = crossValidation.train_test_split(iris.data, iris.target,\\\n",
    "                                                    test_size=0.4, random_state=100)"
   ]
  },
  {
   "cell_type": "markdown",
   "metadata": {},
   "source": [
    "# Leave-One-Out Method "
   ]
  },
  {
   "cell_type": "code",
   "execution_count": 45,
   "metadata": {
    "collapsed": false
   },
   "outputs": [],
   "source": [
    "iris = datasets.load_iris() # Load Iris dataset\n",
    "# Leave one out \n",
    "loo = crossValidation.LeaveOneOut(iris.data.shape[0])\n",
    "for train_index, test_index in loo:\n",
    "    print(\"TRAIN:\", train_index, \"TEST:\", test_index) # print the indices of the selected "
   ]
  },
  {
   "cell_type": "markdown",
   "metadata": {},
   "source": [
    "# K-Fold Cross Validation "
   ]
  },
  {
   "cell_type": "code",
   "execution_count": 25,
   "metadata": {
    "collapsed": false
   },
   "outputs": [],
   "source": [
    "iris = datasets.load_iris()\n",
    "seed = 10\n",
    "kf = crossValidation.KFold(n = iris.data.shape[0], n_folds=5,shuffle=True,random_state=seed)\n",
    "for train_index, test_index in kf:\n",
    "    pass\n",
    "    print(\"TRAIN:\", train_index, \"TEST:\", test_index)"
   ]
  },
  {
   "cell_type": "markdown",
   "metadata": {},
   "source": [
    "# Supervised Classifier Evaluation "
   ]
  },
  {
   "cell_type": "markdown",
   "metadata": {},
   "source": [
    "# Accuracy Metric"
   ]
  },
  {
   "cell_type": "code",
   "execution_count": 29,
   "metadata": {
    "collapsed": false
   },
   "outputs": [
    {
     "name": "stdout",
     "output_type": "stream",
     "text": [
      "Accuracy: 0.953 (0.040)\n"
     ]
    }
   ],
   "source": [
    "iris = datasets.load_iris()\n",
    "penalty = 'l1'\n",
    "seed = 10\n",
    "epochs = 500\n",
    "multiclass = 'ovr'\n",
    "n_jobs = -1\n",
    "model = LogisticRegression(penalty=penalty,max_iter=epochs,random_state=seed,\\\n",
    "                           multi_class=multiclass,n_jobs = n_jobs)\n",
    "scoring = 'accuracy'\n",
    "seed = 10\n",
    "kfold = crossValidation.KFold(n = iris.data.shape[0], n_folds=5,shuffle=True,random_state=seed)\n",
    "results = crossValidation.cross_val_score(model, iris.data, iris.target, cv=kfold, scoring=scoring)\n",
    "print(\"Accuracy: %.3f (%.3f)\") % (results.mean(), results.std())"
   ]
  },
  {
   "cell_type": "markdown",
   "metadata": {},
   "source": [
    "# Negative Logarithmic Loss"
   ]
  },
  {
   "cell_type": "code",
   "execution_count": 39,
   "metadata": {
    "collapsed": false
   },
   "outputs": [
    {
     "name": "stdout",
     "output_type": "stream",
     "text": [
      "Logloss: -0.335 (0.043)\n"
     ]
    }
   ],
   "source": [
    "iris = datasets.load_iris()\n",
    "penalty = 'l2'\n",
    "seed = 10\n",
    "epochs = 500\n",
    "multiclass = 'ovr'\n",
    "n_jobs = -1\n",
    "model = LogisticRegression(penalty=penalty,max_iter=epochs,random_state=seed,\\\n",
    "                           multi_class=multiclass,n_jobs = n_jobs)\n",
    "scoring = 'neg_log_loss'\n",
    "seed = 10\n",
    "kfold = crossValidation.KFold(n = iris.data.shape[0], n_folds=5,shuffle=True,random_state=seed)\n",
    "results = crossValidation.cross_val_score(model, iris.data, iris.target, cv=kfold, scoring=scoring)\n",
    "print(\"Logloss: %.3f (%.3f)\") % (results.mean(), results.std())"
   ]
  },
  {
   "cell_type": "markdown",
   "metadata": {},
   "source": [
    "# Area Under The ROC Curve"
   ]
  },
  {
   "cell_type": "code",
   "execution_count": 46,
   "metadata": {
    "collapsed": false
   },
   "outputs": [
    {
     "name": "stdout",
     "output_type": "stream",
     "text": [
      "AUC: 1.000 (0.000)\n"
     ]
    }
   ],
   "source": [
    "iris = datasets.load_iris()\n",
    "penalty = 'l2'\n",
    "seed = 10\n",
    "epochs = 500\n",
    "n_jobs = -1\n",
    "model = LogisticRegression(penalty=penalty,max_iter=epochs,random_state=seed,\\\n",
    "                           n_jobs = n_jobs)\n",
    "scoring = 'roc_auc'\n",
    "seed = 10\n",
    "kfold = crossValidation.KFold(n = 100, n_folds=5,shuffle=True,random_state=seed)\n",
    "results = crossValidation.cross_val_score(model, iris.data[:100,:], iris.target[:100], cv=kfold, scoring=scoring)\n",
    "print(\"AUC: %.3f (%.3f)\") % (results.mean(), results.std())"
   ]
  },
  {
   "cell_type": "markdown",
   "metadata": {},
   "source": [
    "# Classification Report"
   ]
  },
  {
   "cell_type": "code",
   "execution_count": 50,
   "metadata": {
    "collapsed": false
   },
   "outputs": [
    {
     "name": "stdout",
     "output_type": "stream",
     "text": [
      "             precision    recall  f1-score   support\n",
      "\n",
      "          0       1.00      1.00      1.00        15\n",
      "          1       1.00      0.63      0.77        19\n",
      "          2       0.70      1.00      0.82        16\n",
      "\n",
      "avg / total       0.90      0.86      0.86        50\n",
      "\n"
     ]
    }
   ],
   "source": [
    "iris = datasets.load_iris()\n",
    "penalty = 'l2'\n",
    "seed = 10\n",
    "epochs = 500\n",
    "multiclass = 'ovr'\n",
    "n_jobs = -1\n",
    "test_size = 0.33\n",
    "model = LogisticRegression(penalty=penalty,max_iter=epochs,random_state=seed,\\\n",
    "                           multi_class=multiclass,n_jobs = n_jobs)\n",
    "X_train, X_test, Y_train, Y_test = crossValidation.train_test_split(iris.data, iris.target\\\n",
    "                                                                    , test_size=test_size, random_state=seed)\n",
    "model = LogisticRegression()\n",
    "model.fit(X_train, Y_train)\n",
    "predicted = model.predict(X_test)\n",
    "report = classification_report(Y_test, predicted)\n",
    "print(report)"
   ]
  },
  {
   "cell_type": "markdown",
   "metadata": {},
   "source": [
    "# Confusion Matrix"
   ]
  },
  {
   "cell_type": "code",
   "execution_count": 53,
   "metadata": {
    "collapsed": false
   },
   "outputs": [
    {
     "name": "stdout",
     "output_type": "stream",
     "text": [
      "[[15  0  0]\n",
      " [ 0 12  7]\n",
      " [ 0  0 16]]\n"
     ]
    }
   ],
   "source": [
    "iris = datasets.load_iris()\n",
    "penalty = 'l2'\n",
    "seed = 10\n",
    "epochs = 500\n",
    "multiclass = 'ovr'\n",
    "n_jobs = -1\n",
    "test_size = 0.33\n",
    "model = LogisticRegression(penalty=penalty,max_iter=epochs,random_state=seed,\\\n",
    "                           multi_class=multiclass,n_jobs = n_jobs)\n",
    "X_train, X_test, Y_train, Y_test = crossValidation.train_test_split(iris.data, iris.target\\\n",
    "                                                                    , test_size=test_size, random_state=seed)\n",
    "model = LogisticRegression()\n",
    "model.fit(X_train, Y_train)\n",
    "predicted = model.predict(X_test)\n",
    "conf = confusion_matrix(Y_test, predicted)\n",
    "print(conf)"
   ]
  },
  {
   "cell_type": "markdown",
   "metadata": {},
   "source": [
    "# Regression Metrics"
   ]
  },
  {
   "cell_type": "markdown",
   "metadata": {},
   "source": [
    "# Negative Mean Absolute Error"
   ]
  },
  {
   "cell_type": "code",
   "execution_count": 62,
   "metadata": {
    "collapsed": false
   },
   "outputs": [
    {
     "name": "stdout",
     "output_type": "stream",
     "text": [
      "MAE: -44.769 (3.609)\n"
     ]
    }
   ],
   "source": [
    "diabetes = datasets.load_diabetes()   # load diabetes dataset\n",
    "n_jobs = -1\n",
    "seed = 10\n",
    "model = LinearRegression(n_jobs=n_jobs)\n",
    "scoring = 'neg_mean_absolute_error'\n",
    "kfold = crossValidation.KFold(n = diabetes.data.shape[0], n_folds=5,shuffle=True,\\\n",
    "                              random_state=seed)\n",
    "results = crossValidation.cross_val_score(model, diabetes.data, diabetes.target,\\\n",
    "                                           cv=kfold, scoring=scoring)\n",
    "print(\"MAE: %.3f (%.3f)\") % (results.mean(), results.std())"
   ]
  },
  {
   "cell_type": "markdown",
   "metadata": {},
   "source": [
    "# Negative Mean Square Error"
   ]
  },
  {
   "cell_type": "code",
   "execution_count": 61,
   "metadata": {
    "collapsed": false
   },
   "outputs": [
    {
     "name": "stdout",
     "output_type": "stream",
     "text": [
      "MSE: -3046.647 (448.451)\n"
     ]
    }
   ],
   "source": [
    "diabetes = datasets.load_diabetes()   # load diabetes dataset\n",
    "n_jobs = -1\n",
    "seed = 10\n",
    "model = LinearRegression(n_jobs=n_jobs)\n",
    "scoring = 'neg_mean_squared_error'\n",
    "kfold = crossValidation.KFold(n = diabetes.data.shape[0], n_folds=5,shuffle=True,\\\n",
    "                              random_state=seed)\n",
    "results = crossValidation.cross_val_score(model, diabetes.data, diabetes.target,\\\n",
    "                                           cv=kfold, scoring=scoring)\n",
    "print(\"MSE: %.3f (%.3f)\") % (results.mean(), results.std())"
   ]
  },
  {
   "cell_type": "markdown",
   "metadata": {},
   "source": [
    "# R^2"
   ]
  },
  {
   "cell_type": "code",
   "execution_count": 63,
   "metadata": {
    "collapsed": false
   },
   "outputs": [
    {
     "name": "stdout",
     "output_type": "stream",
     "text": [
      "R^2: 0.481 (0.083)\n"
     ]
    }
   ],
   "source": [
    "diabetes = datasets.load_diabetes()   # load diabetes dataset\n",
    "n_jobs = -1\n",
    "seed = 10\n",
    "model = LinearRegression(n_jobs=n_jobs)\n",
    "scoring = 'r2'\n",
    "kfold = crossValidation.KFold(n = diabetes.data.shape[0], n_folds=5,shuffle=True,\\\n",
    "                              random_state=seed)\n",
    "results = crossValidation.cross_val_score(model, diabetes.data, diabetes.target,\\\n",
    "                                           cv=kfold, scoring=scoring)\n",
    "print(\"R^2: %.3f (%.3f)\") % (results.mean(), results.std())"
   ]
  },
  {
   "cell_type": "code",
   "execution_count": null,
   "metadata": {
    "collapsed": true
   },
   "outputs": [],
   "source": []
  }
 ],
 "metadata": {
  "kernelspec": {
   "display_name": "Python 2",
   "language": "python",
   "name": "python2"
  },
  "language_info": {
   "codemirror_mode": {
    "name": "ipython",
    "version": 2
   },
   "file_extension": ".py",
   "mimetype": "text/x-python",
   "name": "python",
   "nbconvert_exporter": "python",
   "pygments_lexer": "ipython2",
   "version": "2.7.12"
  }
 },
 "nbformat": 4,
 "nbformat_minor": 0
}
