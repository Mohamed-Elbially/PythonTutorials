{
 "cells": [
  {
   "cell_type": "markdown",
   "metadata": {},
   "source": [
    "# Comparison Operators"
   ]
  },
  {
   "cell_type": "code",
   "execution_count": 17,
   "metadata": {
    "collapsed": true
   },
   "outputs": [],
   "source": [
    "x = 5\n",
    "y = 10"
   ]
  },
  {
   "cell_type": "code",
   "execution_count": 18,
   "metadata": {
    "collapsed": false
   },
   "outputs": [
    {
     "name": "stdout",
     "output_type": "stream",
     "text": [
      "Is x > 10 ? : False\n",
      "Is x < 10 ? : True\n",
      "Is x == 10 ? : False\n",
      "Is x != 10 ? : True\n",
      "Is x != 10 ? : True\n",
      "Is x >= 10 ? : False\n",
      "Is x <= 10 ? : True\n"
     ]
    }
   ],
   "source": [
    "#greater than\n",
    "print 'Is x > 10 ? : {v}'.format (v = x>10)\n",
    "#less than\n",
    "print 'Is x < 10 ? : {v}'.format (v = x<10)\n",
    "#equal\n",
    "print 'Is x == 10 ? : {v}'.format (v = x==10)\n",
    "#not equal\n",
    "print 'Is x != 10 ? : {v}'.format (v = x!=10)\n",
    "print 'Is x != 10 ? : {v}'.format (v = x<>10)\n",
    "#greater than or equal\n",
    "print 'Is x >= 10 ? : {v}'.format (v = x>=10)\n",
    "#less than or equal\n",
    "print 'Is x <= 10 ? : {v}'.format (v = x<=10)"
   ]
  },
  {
   "cell_type": "code",
   "execution_count": 21,
   "metadata": {
    "collapsed": false
   },
   "outputs": [
    {
     "name": "stdout",
     "output_type": "stream",
     "text": [
      "Is x < 10 and x>0 ? : True\n",
      "Is x < 10 and x>0 ? : True\n",
      "Is x < 10 or x>0 ? : True\n"
     ]
    }
   ],
   "source": [
    "# Multiple comparison \n",
    "# And\n",
    "print 'Is x < 10 and x>0 ? : {v}'.format (v = x<10 and x>0)\n",
    "print 'Is x < 10 and x>0 ? : {v}'.format (v = 10>x>0)\n",
    "\n",
    "# Or\n",
    "print 'Is x < 10 or x>0 ? : {v}'.format (v = x<10 or x>0)\n"
   ]
  },
  {
   "cell_type": "code",
   "execution_count": null,
   "metadata": {
    "collapsed": true
   },
   "outputs": [],
   "source": []
  }
 ],
 "metadata": {
  "kernelspec": {
   "display_name": "Python 2",
   "language": "python",
   "name": "python2"
  },
  "language_info": {
   "codemirror_mode": {
    "name": "ipython",
    "version": 2
   },
   "file_extension": ".py",
   "mimetype": "text/x-python",
   "name": "python",
   "nbconvert_exporter": "python",
   "pygments_lexer": "ipython2",
   "version": "2.7.11"
  }
 },
 "nbformat": 4,
 "nbformat_minor": 0
}
